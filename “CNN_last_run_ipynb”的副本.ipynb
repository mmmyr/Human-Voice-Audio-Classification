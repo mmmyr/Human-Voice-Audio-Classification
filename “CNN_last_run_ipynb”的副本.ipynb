{
  "nbformat": 4,
  "nbformat_minor": 0,
  "metadata": {
    "colab": {
      "provenance": [],
      "gpuClass": "premium",
      "include_colab_link": true
    },
    "kernelspec": {
      "name": "python3",
      "display_name": "Python 3"
    },
    "language_info": {
      "name": "python"
    },
    "accelerator": "GPU",
    "gpuClass": "premium"
  },
  "cells": [
    {
      "cell_type": "markdown",
      "metadata": {
        "id": "view-in-github",
        "colab_type": "text"
      },
      "source": [
        "<a href=\"https://colab.research.google.com/github/mmmyr/Human-Voice-Audio-Classification/blob/main/%E2%80%9CCNN_last_run_ipynb%E2%80%9D%E7%9A%84%E5%89%AF%E6%9C%AC.ipynb\" target=\"_parent\"><img src=\"https://colab.research.google.com/assets/colab-badge.svg\" alt=\"Open In Colab\"/></a>"
      ]
    },
    {
      "cell_type": "code",
      "execution_count": null,
      "metadata": {
        "colab": {
          "base_uri": "https://localhost:8080/"
        },
        "id": "YUgoHRCRd1vn",
        "outputId": "71976b51-0389-48fb-ebb3-cac128e9e4db"
      },
      "outputs": [
        {
          "output_type": "stream",
          "name": "stdout",
          "text": [
            "Mounted at /content/drive\n"
          ]
        }
      ],
      "source": [
        "from google.colab import drive\n",
        "drive.mount('/content/drive')\n",
        "\n",
        "import pandas as pd\n",
        "import numpy as np\n",
        "import seaborn as sns\n",
        "import matplotlib.pyplot as plt\n",
        "import os\n",
        "from scipy.io import wavfile\n",
        "import re\n",
        "import seaborn as sns\n",
        "import random\n",
        "from sklearn import svm\n",
        "import librosa\n",
        "from sklearn.model_selection import train_test_split\n",
        "from sklearn.decomposition import PCA\n",
        "from sklearn.metrics import accuracy_score\n",
        "import re\n",
        "import tensorflow as tf\n",
        "from tensorflow.keras.utils import to_categorical\n",
        "from keras.utils.np_utils import to_categorical\n",
        "import pywt\n",
        "from scipy import signal\n",
        "\n",
        "\n",
        "import keras\n",
        "from keras.layers import Conv1D, Embedding, Dropout, MaxPooling1D, GlobalMaxPooling1D, Dense\n",
        "from keras.layers import Input, Conv2D, MaxPooling2D, Flatten, Dense, concatenate, Dropout, BatchNormalization\n",
        "from keras.optimizers import Adam, SGD, nadam\n",
        "from keras import Model\n",
        "from keras.callbacks import EarlyStopping\n",
        "from keras.callbacks import ModelCheckpoint\n",
        "\n",
        "# test data and test data directory\n",
        "\n",
        "data_dir = \"/content/drive/MyDrive/ELEC378_FinalProject/data/data\"\n",
        "\n",
        "test_dir = \"/content/drive/MyDrive/ELEC378_FinalProject/test/test\"\n",
        "\n"
      ]
    },
    {
      "cell_type": "code",
      "source": [
        "#SVM\n"
      ],
      "metadata": {
        "id": "9VLMvdVH_Tq_"
      },
      "execution_count": null,
      "outputs": []
    },
    {
      "cell_type": "code",
      "source": [
        "def FeatureExtraction (dir, split=True):\n",
        "\n",
        "  '''\n",
        "  Function for feature extraction. Change this section to change what features we are using.\n",
        "\n",
        "  input: a directory of the data. Will split to test and train, a boolean: if split is true, will extract features and labels and store them in 4 arrays:\n",
        "  train_data, train_label, test_data, test_label. if split is false, function will extract all data provided in the directory and output 2 arrays with values 2 arrays that are empty.\n",
        "  Use labeled data and split = false will give you  (train_data, train_label); use unlabled data and split = false will give you (test_data, test_label).\n",
        "\n",
        "  output: data matrix and lables for both test and train.\n",
        "\n",
        "  '''\n",
        "  audio_files = [f for f in os.listdir(dir) if f.endswith(\".wav\")]\n",
        "\n",
        "  train_files, test_files = train_test_split(audio_files, test_size=0.2)\n",
        "\n",
        "  train_wt = []\n",
        "  train_mfccs = []\n",
        "  train_label= []\n",
        "\n",
        "  test_mfccs = []\n",
        "  test_wt  = []\n",
        "  test_label = []\n",
        "\n",
        "\n",
        "  for file_name in audio_files:\n",
        "\n",
        "      # Load audio\n",
        "      file_path = os.path.join(dir, file_name)\n",
        "      raw_audio, sr = librosa.load(file_path)\n",
        "\n",
        "      #if audio is too short, append zeros after it.\n",
        "      #noise = np.random.normal(loc=0, scale=0.3)\n",
        "\n",
        "      if np.shape(raw_audio)[0] < 80000:\n",
        "          padded_audio = np.pad(raw_audio, [(0, 80000 - np.shape(raw_audio)[0])], mode='constant')\n",
        "      else:\n",
        "          padded_audio = raw_audio\n",
        "\n",
        "      # now slice so that we guarantee that each array has the same length\n",
        "      audio = padded_audio[20000:80000]\n",
        "\n",
        "      # feature extraction\n",
        "      mfccs  = librosa.feature.mfcc(y = audio, sr = 22050, n_mfcc = 28)\n",
        "      #delta_mfccs = librosa.feature.delta(y = mfccs)\n",
        "      spec_centroid = librosa.feature.spectral_centroid(y = audio)\n",
        "\n",
        "      coeffs = pywt.wavedec(audio, 'db1', level =4)\n",
        "\n",
        "      mfccs_wt = []\n",
        "\n",
        "\n",
        "      for i in coeffs:\n",
        "          mfccsw = librosa.feature.mfcc(y=i, sr=22050, n_mfcc=18)\n",
        "          # pad the MFCCs to max_len\n",
        "\n",
        "          mfccs_wt.append(mfccsw)\n",
        "\n",
        "      #mfccs_wt = np.array(mfccs_wt)\n",
        "      mfccs_wt = np.hstack(mfccs_wt)\n",
        "\n",
        "\n",
        "\n",
        "      #spec_centroid = librosa.feature.spectral_centroid(y = audio)\n",
        "\n",
        "      #spec_contrast = librosa.feature.spectral_contrast (y = audio)\n",
        "\n",
        "      #morl = morl_wavelet_pca(audio)\n",
        "\n",
        "      # Concatenate\n",
        "\n",
        "      wavelet_features = mfccs_wt\n",
        "      mfccs_features = np.concatenate([mfccs, spec_centroid])\n",
        "      #features = morl\n",
        "\n",
        "      label_map = {'angry': 0, 'calm': 1, 'disgust': 2, 'fearful': 3, 'happy': 4, 'neutral': 5, 'sad': 6, 'surprised': 7}\n",
        "      label = file_name.split(\".\")[0]\n",
        "\n",
        "      #unlabeled data\n",
        "      if label[:-3] == \"sample\":\n",
        "        test_wt.append(wavelet_features)\n",
        "        test_mfccs.append(mfccs_features)\n",
        "        test_label.append(label)\n",
        "\n",
        "      #labeled data\n",
        "      else:\n",
        "        if split:\n",
        "          if file_name in train_files:\n",
        "            train_wt.append(wavelet_features)\n",
        "            train_mfccs.append(mfccs_features)\n",
        "            label = re.sub('[^a-z]', \"\", label)\n",
        "            train_label.append(label_map[label])\n",
        "\n",
        "          elif file_name in test_files:\n",
        "            test_wt.append(wavelet_features)\n",
        "            test_mfccs.append(mfccs_features)\n",
        "            label = re.sub('[^a-z]', \"\", label)\n",
        "            test_label.append(label_map[label])\n",
        "\n",
        "        elif not split:\n",
        "\n",
        "          train_wt.append(wavelet_features)\n",
        "          train_mfccs.append(mfccs_features)\n",
        "          label = re.sub('[^a-z]', \"\", label)\n",
        "          train_label.append(label_map[label])\n",
        "\n",
        "\n",
        "  train_wt = np.array(train_wt)\n",
        "  train_mfccs = np.array(train_mfccs)\n",
        "  train_label = np.array(train_label)\n",
        "\n",
        "\n",
        "  test_mfccs = np.array(test_mfccs)\n",
        "  test_wt    = np.array(test_wt)\n",
        "  test_label = np.array(test_label)\n",
        "\n",
        "  #print(\"feature size is:\", np.shape(features))\n",
        "  #print(\"spec centroid:\", np.shape(spec_centroid))\n",
        "  return train_mfccs, train_wt, train_label, test_mfccs, test_wt, test_label"
      ],
      "metadata": {
        "id": "7T_1zX-FeBfD"
      },
      "execution_count": null,
      "outputs": []
    },
    {
      "cell_type": "markdown",
      "source": [
        "SVM"
      ],
      "metadata": {
        "id": "Rr3iLM65_X6W"
      }
    },
    {
      "cell_type": "code",
      "source": [
        "#SVM implementation\n",
        "import sklearn\n",
        "from sklearn import svm\n",
        "from sklearn.pipeline import make_pipeline\n",
        "from sk\n",
        "\n",
        "clf=make_pipeline(StandardScaler(),SVC(gamma='scale',kernel=\"linear\"))\n",
        "clf.fit(X_train, y_train)\n",
        "predictions_svm = clf.predict(X_test)"
      ],
      "metadata": {
        "id": "LTTsck5n_cfY"
      },
      "execution_count": null,
      "outputs": []
    },
    {
      "cell_type": "code",
      "source": [
        "X_train_mfccs, X_train_wt, y_train, X_test_mfccs, X_test_wt, y_test = FeatureExtraction(data_dir, split = True)\n",
        "\n",
        "y_train_ohe = to_categorical(y_train)\n",
        "y_test_ohe = to_categorical(y_test)\n",
        "\n",
        "print(X_train_mfccs.shape)"
      ],
      "metadata": {
        "colab": {
          "base_uri": "https://localhost:8080/"
        },
        "id": "qUiNMT7deJBP",
        "outputId": "ab5b7166-b1df-48ce-8033-fa7093e4051c"
      },
      "execution_count": null,
      "outputs": [
        {
          "output_type": "stream",
          "name": "stdout",
          "text": [
            "(900, 29, 118)\n"
          ]
        }
      ]
    },
    {
      "cell_type": "code",
      "source": [
        "print(X_train_wt.shape)\n",
        "plt.imshow(X_train_wt[1], cmap = \"magma\")"
      ],
      "metadata": {
        "colab": {
          "base_uri": "https://localhost:8080/",
          "height": 174
        },
        "id": "lFGXSsDYfrm-",
        "outputId": "ead5e534-e656-4a71-a026-03f48131345b"
      },
      "execution_count": null,
      "outputs": [
        {
          "output_type": "stream",
          "name": "stdout",
          "text": [
            "(900, 18, 120)\n"
          ]
        },
        {
          "output_type": "execute_result",
          "data": {
            "text/plain": [
              "<matplotlib.image.AxesImage at 0x7efc9f928430>"
            ]
          },
          "metadata": {},
          "execution_count": 67
        },
        {
          "output_type": "display_data",
          "data": {
            "text/plain": [
              "<Figure size 640x480 with 1 Axes>"
            ],
            "image/png": "[encoded data removed]"
          },
          "metadata": {}
        }
      ]
    },
    {
      "cell_type": "code",
      "source": [
        "def two_branch(mfcc_input_shape, dwt_input_shape, num_classes):\n",
        "\n",
        "    # Define the input layers for each feature set\n",
        "    mfcc_input = Input(shape=mfcc_input_shape, name='mfcc_input')\n",
        "    dwt_input = Input(shape=dwt_input_shape, name='dwt_input')\n",
        "\n",
        "    # Define the convolutional layers for each feature set\n",
        "    mfcc_conv1 = Conv2D(filters=64, kernel_size=(3, 3), activation='relu')(mfcc_input)\n",
        "    mfcc_batch1 = BatchNormalization()(mfcc_conv1)\n",
        "    mfcc_pool1 = MaxPooling2D(pool_size=(2, 2))(mfcc_batch1)\n",
        "    mfcc_conv2 = Conv2D(filters=128, kernel_size=(3, 3), activation='relu')(mfcc_pool1)\n",
        "    mfcc_batch2 = BatchNormalization()(mfcc_conv2)\n",
        "    mfcc_conv3 = Conv2D(filters=256, kernel_size=(3, 3), activation='relu')(mfcc_batch2)\n",
        "    mfcc_batch3 = BatchNormalization()(mfcc_conv3)\n",
        "    mfcc_pool3 = MaxPooling2D(pool_size=(2, 2))(mfcc_batch3)\n",
        "    mfcc_flat = Flatten()(mfcc_pool3)\n",
        "\n",
        "    dwt_conv1 = Conv2D(filters=64, kernel_size=(3, 3), activation='relu')(dwt_input)\n",
        "    dwt_batch1 = BatchNormalization()(dwt_conv1)\n",
        "    dwt_pool1 = MaxPooling2D(pool_size=(2, 2))(dwt_batch1)\n",
        "    dwt_conv2 = Conv2D(filters=128, kernel_size=(3, 3), activation='relu')(dwt_pool1)\n",
        "    dwt_batch2 = BatchNormalization()(dwt_conv2)\n",
        "    dwt_pool3 = MaxPooling2D(pool_size=(2, 2))(dwt_batch2)\n",
        "    dwt_flat = Flatten()(dwt_pool3)\n",
        "\n",
        "    # Merge the feature sets by concatenating the flattened feature vectors\n",
        "    merged = concatenate([mfcc_flat, dwt_flat])\n",
        "\n",
        "    # Define the dense layers for classification\n",
        "\n",
        "    dense1 = Dense(units=1024, activation='relu')(merged)\n",
        "    dropout1 = Dropout(0.5)(dense1) # add dropout with rate of 0.5\n",
        "    dense2 = Dense(units=num_classes, activation='softmax')(dropout1)\n",
        "    # Define the model with two inputs and one output\n",
        "    model = Model(inputs=[mfcc_input, dwt_input], outputs=dense2)\n",
        "\n",
        "    return model"
      ],
      "metadata": {
        "id": "_PO3I5-neSns"
      },
      "execution_count": null,
      "outputs": []
    },
    {
      "cell_type": "code",
      "source": [
        "#simple grid search to find best model parameters\n",
        "def grid_search(model, learning_rates, batch_sizes):\n",
        "    \"\"\"\n",
        "    Perform grid search hyper-parameter tuning\n",
        "    \"\"\"\n",
        "    best_acc = float('-inf')\n",
        "    best_batch = None\n",
        "    best_lr = None\n",
        "    empty_model_weights = model.get_weights()\n",
        "    #iterate through param space\n",
        "\n",
        "    for lr in learning_rates:\n",
        "        for batch in batch_sizes:\n",
        "\n",
        "            #build model with params\n",
        "            model_results, _ = build_model(model, lr, batch, x_train, y_train, train_small=True)\n",
        "            #store the accuracy results as dict mapping params -> model history\n",
        "            val_acc = model_results.history['val_accuracy'][-1]\n",
        "            train_acc = model_results.history['accuracy'][-1]\n",
        "            if val_acc + train_acc > best_acc:\n",
        "                best_batch = batch\n",
        "                best_lr = lr\n",
        "                best_acc = val_acc + train_acc\n",
        "\n",
        "            #reset model weights for new run\n",
        "            model.set_weights(empty_model_weights)\n",
        "\n",
        "    return best_batch, best_lr\n"
      ],
      "metadata": {
        "id": "Y7pP8hmHLUp7"
      },
      "execution_count": null,
      "outputs": []
    },
    {
      "cell_type": "code",
      "source": [
        "es = EarlyStopping(monitor='val_loss', mode='min', restore_best_weights=True, patience=17, verbose=1)\n",
        "\n",
        "checkpoint = ModelCheckpoint('best_model.h5', monitor='val_accuracy', save_best_only=True, verbose=1, initial_value_threshold=0.75)\n",
        "\n",
        "model = two_branch((X_train_mfccs.shape[1], X_train_mfccs.shape[2], 1), (X_train_wt.shape[1], X_train_wt.shape[2], 1), 8)\n",
        "\n",
        "model.compile(loss='categorical_crossentropy', optimizer=\"SGD\",  metrics=['accuracy'])\n",
        "\n",
        "# Train the model with the two input feature sets and corresponding labels\n",
        "history = model.fit( [X_train_mfccs, X_train_wt], y_train_ohe, validation_data=([X_test_mfccs, X_test_wt], y_test_ohe), epochs=60, batch_size=32, callbacks=[checkpoint])\n"
      ],
      "metadata": {
        "colab": {
          "base_uri": "https://localhost:8080/"
        },
        "id": "hBu99wpRehD9",
        "outputId": "91ea6743-07fc-43dc-e007-a1ef2f98fec1"
      },
      "execution_count": null,
      "outputs": [
        {
          "output_type": "stream",
          "name": "stdout",
          "text": [
            "Epoch 1/60\n",
            "29/29 [==============================] - ETA: 0s - loss: 7.5555 - accuracy: 0.2356\n",
            "Epoch 1: val_accuracy did not improve from 0.75000\n",
            "29/29 [==============================] - 3s 40ms/step - loss: 7.5555 - accuracy: 0.2356 - val_loss: 2.0910 - val_accuracy: 0.1644\n",
            "Epoch 2/60\n",
            "28/29 [===========================>..] - ETA: 0s - loss: 1.7687 - accuracy: 0.3504\n",
            "Epoch 2: val_accuracy did not improve from 0.75000\n",
            "29/29 [==============================] - 1s 24ms/step - loss: 1.7691 - accuracy: 0.3500 - val_loss: 1.9285 - val_accuracy: 0.2267\n",
            "Epoch 3/60\n",
            "28/29 [===========================>..] - ETA: 0s - loss: 1.5939 - accuracy: 0.3984\n",
            "Epoch 3: val_accuracy did not improve from 0.75000\n",
            "29/29 [==============================] - 1s 24ms/step - loss: 1.5928 - accuracy: 0.3989 - val_loss: 2.0062 - val_accuracy: 0.2533\n",
            "Epoch 4/60\n",
            "28/29 [===========================>..] - ETA: 0s - loss: 1.5644 - accuracy: 0.4342\n",
            "Epoch 4: val_accuracy did not improve from 0.75000\n",
            "29/29 [==============================] - 1s 24ms/step - loss: 1.5643 - accuracy: 0.4344 - val_loss: 1.6729 - val_accuracy: 0.3378\n",
            "Epoch 5/60\n",
            "28/29 [===========================>..] - ETA: 0s - loss: 1.2808 - accuracy: 0.5290\n",
            "Epoch 5: val_accuracy did not improve from 0.75000\n",
            "29/29 [==============================] - 1s 24ms/step - loss: 1.2810 - accuracy: 0.5300 - val_loss: 1.9701 - val_accuracy: 0.2800\n",
            "Epoch 6/60\n",
            "28/29 [===========================>..] - ETA: 0s - loss: 1.1356 - accuracy: 0.5781\n",
            "Epoch 6: val_accuracy did not improve from 0.75000\n",
            "29/29 [==============================] - 1s 24ms/step - loss: 1.1317 - accuracy: 0.5800 - val_loss: 1.4940 - val_accuracy: 0.4578\n",
            "Epoch 7/60\n",
            "28/29 [===========================>..] - ETA: 0s - loss: 0.9955 - accuracy: 0.6272\n",
            "Epoch 7: val_accuracy did not improve from 0.75000\n",
            "29/29 [==============================] - 1s 24ms/step - loss: 0.9933 - accuracy: 0.6278 - val_loss: 1.5668 - val_accuracy: 0.4356\n",
            "Epoch 8/60\n",
            "27/29 [==========================>...] - ETA: 0s - loss: 0.8229 - accuracy: 0.7014\n",
            "Epoch 8: val_accuracy did not improve from 0.75000\n",
            "29/29 [==============================] - 1s 25ms/step - loss: 0.8174 - accuracy: 0.7044 - val_loss: 1.5372 - val_accuracy: 0.4533\n",
            "Epoch 9/60\n",
            "28/29 [===========================>..] - ETA: 0s - loss: 0.7001 - accuracy: 0.7522\n",
            "Epoch 9: val_accuracy did not improve from 0.75000\n",
            "29/29 [==============================] - 1s 28ms/step - loss: 0.7001 - accuracy: 0.7522 - val_loss: 1.7076 - val_accuracy: 0.3911\n",
            "Epoch 10/60\n",
            "29/29 [==============================] - ETA: 0s - loss: 0.7154 - accuracy: 0.7544\n",
            "Epoch 10: val_accuracy did not improve from 0.75000\n",
            "29/29 [==============================] - 1s 27ms/step - loss: 0.7154 - accuracy: 0.7544 - val_loss: 1.1697 - val_accuracy: 0.6044\n",
            "Epoch 11/60\n",
            "28/29 [===========================>..] - ETA: 0s - loss: 0.4656 - accuracy: 0.8415\n",
            "Epoch 11: val_accuracy did not improve from 0.75000\n",
            "29/29 [==============================] - 1s 27ms/step - loss: 0.4658 - accuracy: 0.8411 - val_loss: 1.4261 - val_accuracy: 0.5200\n",
            "Epoch 12/60\n",
            "29/29 [==============================] - ETA: 0s - loss: 0.4105 - accuracy: 0.8778\n",
            "Epoch 12: val_accuracy did not improve from 0.75000\n",
            "29/29 [==============================] - 1s 30ms/step - loss: 0.4105 - accuracy: 0.8778 - val_loss: 1.0930 - val_accuracy: 0.6133\n",
            "Epoch 13/60\n",
            "27/29 [==========================>...] - ETA: 0s - loss: 0.3337 - accuracy: 0.8843\n",
            "Epoch 13: val_accuracy did not improve from 0.75000\n",
            "29/29 [==============================] - 1s 26ms/step - loss: 0.3324 - accuracy: 0.8833 - val_loss: 1.4122 - val_accuracy: 0.5111\n",
            "Epoch 14/60\n",
            "28/29 [===========================>..] - ETA: 0s - loss: 0.3076 - accuracy: 0.8973\n",
            "Epoch 14: val_accuracy did not improve from 0.75000\n",
            "29/29 [==============================] - 1s 24ms/step - loss: 0.3086 - accuracy: 0.8967 - val_loss: 1.8298 - val_accuracy: 0.5022\n",
            "Epoch 15/60\n",
            "28/29 [===========================>..] - ETA: 0s - loss: 0.2977 - accuracy: 0.9029\n",
            "Epoch 15: val_accuracy did not improve from 0.75000\n",
            "29/29 [==============================] - 1s 24ms/step - loss: 0.2987 - accuracy: 0.9022 - val_loss: 2.8248 - val_accuracy: 0.3689\n",
            "Epoch 16/60\n",
            "28/29 [===========================>..] - ETA: 0s - loss: 0.4511 - accuracy: 0.8493\n",
            "Epoch 16: val_accuracy did not improve from 0.75000\n",
            "29/29 [==============================] - 1s 24ms/step - loss: 0.4504 - accuracy: 0.8500 - val_loss: 1.4109 - val_accuracy: 0.5556\n",
            "Epoch 17/60\n",
            "28/29 [===========================>..] - ETA: 0s - loss: 0.2247 - accuracy: 0.9275\n",
            "Epoch 17: val_accuracy did not improve from 0.75000\n",
            "29/29 [==============================] - 1s 25ms/step - loss: 0.2282 - accuracy: 0.9267 - val_loss: 4.0136 - val_accuracy: 0.3911\n",
            "Epoch 18/60\n",
            "28/29 [===========================>..] - ETA: 0s - loss: 0.4463 - accuracy: 0.8839\n",
            "Epoch 18: val_accuracy did not improve from 0.75000\n",
            "29/29 [==============================] - 1s 25ms/step - loss: 0.4459 - accuracy: 0.8833 - val_loss: 1.7603 - val_accuracy: 0.4889\n",
            "Epoch 19/60\n",
            "28/29 [===========================>..] - ETA: 0s - loss: 0.2305 - accuracy: 0.9308\n",
            "Epoch 19: val_accuracy did not improve from 0.75000\n",
            "29/29 [==============================] - 1s 25ms/step - loss: 0.2301 - accuracy: 0.9311 - val_loss: 1.2557 - val_accuracy: 0.6044\n",
            "Epoch 20/60\n",
            "28/29 [===========================>..] - ETA: 0s - loss: 0.1443 - accuracy: 0.9621\n",
            "Epoch 20: val_accuracy did not improve from 0.75000\n",
            "29/29 [==============================] - 1s 24ms/step - loss: 0.1442 - accuracy: 0.9622 - val_loss: 1.0730 - val_accuracy: 0.6178\n",
            "Epoch 21/60\n",
            "28/29 [===========================>..] - ETA: 0s - loss: 0.0884 - accuracy: 0.9788\n",
            "Epoch 21: val_accuracy did not improve from 0.75000\n",
            "29/29 [==============================] - 1s 24ms/step - loss: 0.0880 - accuracy: 0.9789 - val_loss: 1.0382 - val_accuracy: 0.6533\n",
            "Epoch 22/60\n",
            "28/29 [===========================>..] - ETA: 0s - loss: 0.0768 - accuracy: 0.9777\n",
            "Epoch 22: val_accuracy did not improve from 0.75000\n",
            "29/29 [==============================] - 1s 24ms/step - loss: 0.0765 - accuracy: 0.9778 - val_loss: 1.0130 - val_accuracy: 0.6622\n",
            "Epoch 23/60\n",
            "28/29 [===========================>..] - ETA: 0s - loss: 0.0695 - accuracy: 0.9833\n",
            "Epoch 23: val_accuracy did not improve from 0.75000\n",
            "29/29 [==============================] - 1s 24ms/step - loss: 0.0698 - accuracy: 0.9833 - val_loss: 1.1773 - val_accuracy: 0.6311\n",
            "Epoch 24/60\n",
            "27/29 [==========================>...] - ETA: 0s - loss: 0.0758 - accuracy: 0.9792\n",
            "Epoch 24: val_accuracy did not improve from 0.75000\n",
            "29/29 [==============================] - 1s 25ms/step - loss: 0.0772 - accuracy: 0.9789 - val_loss: 0.9907 - val_accuracy: 0.6711\n",
            "Epoch 25/60\n",
            "28/29 [===========================>..] - ETA: 0s - loss: 0.0380 - accuracy: 0.9922\n",
            "Epoch 25: val_accuracy did not improve from 0.75000\n",
            "29/29 [==============================] - 1s 25ms/step - loss: 0.0382 - accuracy: 0.9922 - val_loss: 1.2125 - val_accuracy: 0.6311\n",
            "Epoch 26/60\n",
            "28/29 [===========================>..] - ETA: 0s - loss: 0.0590 - accuracy: 0.9833\n",
            "Epoch 26: val_accuracy did not improve from 0.75000\n",
            "29/29 [==============================] - 1s 25ms/step - loss: 0.0589 - accuracy: 0.9833 - val_loss: 1.0354 - val_accuracy: 0.6933\n",
            "Epoch 27/60\n",
            "28/29 [===========================>..] - ETA: 0s - loss: 0.0477 - accuracy: 0.9933\n",
            "Epoch 27: val_accuracy did not improve from 0.75000\n",
            "29/29 [==============================] - 1s 24ms/step - loss: 0.0475 - accuracy: 0.9933 - val_loss: 1.0465 - val_accuracy: 0.6978\n",
            "Epoch 28/60\n",
            "28/29 [===========================>..] - ETA: 0s - loss: 0.0413 - accuracy: 0.9900\n",
            "Epoch 28: val_accuracy did not improve from 0.75000\n",
            "29/29 [==============================] - 1s 29ms/step - loss: 0.0413 - accuracy: 0.9900 - val_loss: 1.0552 - val_accuracy: 0.6756\n",
            "Epoch 29/60\n",
            "28/29 [===========================>..] - ETA: 0s - loss: 0.0343 - accuracy: 0.9922\n",
            "Epoch 29: val_accuracy did not improve from 0.75000\n",
            "29/29 [==============================] - 1s 26ms/step - loss: 0.0341 - accuracy: 0.9922 - val_loss: 1.0128 - val_accuracy: 0.6889\n",
            "Epoch 30/60\n",
            "28/29 [===========================>..] - ETA: 0s - loss: 0.0244 - accuracy: 0.9967\n",
            "Epoch 30: val_accuracy did not improve from 0.75000\n",
            "29/29 [==============================] - 1s 27ms/step - loss: 0.0243 - accuracy: 0.9967 - val_loss: 1.0572 - val_accuracy: 0.6800\n",
            "Epoch 31/60\n",
            "29/29 [==============================] - ETA: 0s - loss: 0.0246 - accuracy: 0.9944\n",
            "Epoch 31: val_accuracy did not improve from 0.75000\n",
            "29/29 [==============================] - 1s 26ms/step - loss: 0.0246 - accuracy: 0.9944 - val_loss: 1.0592 - val_accuracy: 0.6578\n",
            "Epoch 32/60\n",
            "28/29 [===========================>..] - ETA: 0s - loss: 0.0246 - accuracy: 0.9967\n",
            "Epoch 32: val_accuracy did not improve from 0.75000\n",
            "29/29 [==============================] - 1s 25ms/step - loss: 0.0245 - accuracy: 0.9967 - val_loss: 1.0771 - val_accuracy: 0.6667\n",
            "Epoch 33/60\n",
            "28/29 [===========================>..] - ETA: 0s - loss: 0.0302 - accuracy: 0.9922\n",
            "Epoch 33: val_accuracy did not improve from 0.75000\n",
            "29/29 [==============================] - 1s 24ms/step - loss: 0.0301 - accuracy: 0.9922 - val_loss: 1.0836 - val_accuracy: 0.6667\n",
            "Epoch 34/60\n",
            "28/29 [===========================>..] - ETA: 0s - loss: 0.0241 - accuracy: 0.9944\n",
            "Epoch 34: val_accuracy did not improve from 0.75000\n",
            "29/29 [==============================] - 1s 25ms/step - loss: 0.0242 - accuracy: 0.9944 - val_loss: 1.1429 - val_accuracy: 0.6578\n",
            "Epoch 35/60\n",
            "28/29 [===========================>..] - ETA: 0s - loss: 0.0398 - accuracy: 0.9911\n",
            "Epoch 35: val_accuracy did not improve from 0.75000\n",
            "29/29 [==============================] - 1s 24ms/step - loss: 0.0396 - accuracy: 0.9911 - val_loss: 1.0575 - val_accuracy: 0.6800\n",
            "Epoch 36/60\n",
            "28/29 [===========================>..] - ETA: 0s - loss: 0.0176 - accuracy: 0.9989\n",
            "Epoch 36: val_accuracy did not improve from 0.75000\n",
            "29/29 [==============================] - 1s 24ms/step - loss: 0.0175 - accuracy: 0.9989 - val_loss: 1.0426 - val_accuracy: 0.6889\n",
            "Epoch 37/60\n",
            "28/29 [===========================>..] - ETA: 0s - loss: 0.0118 - accuracy: 1.0000\n",
            "Epoch 37: val_accuracy did not improve from 0.75000\n",
            "29/29 [==============================] - 1s 24ms/step - loss: 0.0118 - accuracy: 1.0000 - val_loss: 1.0566 - val_accuracy: 0.7022\n",
            "Epoch 38/60\n",
            "27/29 [==========================>...] - ETA: 0s - loss: 0.0133 - accuracy: 0.9977\n",
            "Epoch 38: val_accuracy did not improve from 0.75000\n",
            "29/29 [==============================] - 1s 25ms/step - loss: 0.0130 - accuracy: 0.9978 - val_loss: 1.0511 - val_accuracy: 0.6889\n",
            "Epoch 39/60\n",
            "28/29 [===========================>..] - ETA: 0s - loss: 0.0176 - accuracy: 0.9967\n",
            "Epoch 39: val_accuracy did not improve from 0.75000\n",
            "29/29 [==============================] - 1s 25ms/step - loss: 0.0176 - accuracy: 0.9967 - val_loss: 1.1597 - val_accuracy: 0.6711\n",
            "Epoch 40/60\n",
            "28/29 [===========================>..] - ETA: 0s - loss: 0.0183 - accuracy: 0.9978\n",
            "Epoch 40: val_accuracy did not improve from 0.75000\n",
            "29/29 [==============================] - 1s 24ms/step - loss: 0.0184 - accuracy: 0.9978 - val_loss: 1.0442 - val_accuracy: 0.6978\n",
            "Epoch 41/60\n",
            "28/29 [===========================>..] - ETA: 0s - loss: 0.0111 - accuracy: 0.9989\n",
            "Epoch 41: val_accuracy did not improve from 0.75000\n",
            "29/29 [==============================] - 1s 24ms/step - loss: 0.0111 - accuracy: 0.9989 - val_loss: 1.0492 - val_accuracy: 0.6889\n",
            "Epoch 42/60\n",
            "28/29 [===========================>..] - ETA: 0s - loss: 0.0118 - accuracy: 0.9978\n",
            "Epoch 42: val_accuracy did not improve from 0.75000\n",
            "29/29 [==============================] - 1s 25ms/step - loss: 0.0118 - accuracy: 0.9978 - val_loss: 1.1609 - val_accuracy: 0.6756\n",
            "Epoch 43/60\n",
            "28/29 [===========================>..] - ETA: 0s - loss: 0.0156 - accuracy: 0.9978\n",
            "Epoch 43: val_accuracy did not improve from 0.75000\n",
            "29/29 [==============================] - 1s 25ms/step - loss: 0.0156 - accuracy: 0.9978 - val_loss: 1.0973 - val_accuracy: 0.6844\n",
            "Epoch 44/60\n",
            "28/29 [===========================>..] - ETA: 0s - loss: 0.0087 - accuracy: 0.9989\n",
            "Epoch 44: val_accuracy did not improve from 0.75000\n",
            "29/29 [==============================] - 1s 24ms/step - loss: 0.0086 - accuracy: 0.9989 - val_loss: 1.0610 - val_accuracy: 0.6800\n",
            "Epoch 45/60\n",
            "28/29 [===========================>..] - ETA: 0s - loss: 0.0100 - accuracy: 0.9978\n",
            "Epoch 45: val_accuracy did not improve from 0.75000\n",
            "29/29 [==============================] - 1s 24ms/step - loss: 0.0107 - accuracy: 0.9978 - val_loss: 1.9713 - val_accuracy: 0.5289\n",
            "Epoch 46/60\n",
            "28/29 [===========================>..] - ETA: 0s - loss: 0.0428 - accuracy: 0.9877\n",
            "Epoch 46: val_accuracy did not improve from 0.75000\n",
            "29/29 [==============================] - 1s 29ms/step - loss: 0.0426 - accuracy: 0.9878 - val_loss: 1.1982 - val_accuracy: 0.6800\n",
            "Epoch 47/60\n",
            "27/29 [==========================>...] - ETA: 0s - loss: 0.0205 - accuracy: 0.9965\n",
            "Epoch 47: val_accuracy did not improve from 0.75000\n",
            "29/29 [==============================] - 1s 26ms/step - loss: 0.0217 - accuracy: 0.9967 - val_loss: 1.3156 - val_accuracy: 0.6400\n",
            "Epoch 48/60\n",
            "28/29 [===========================>..] - ETA: 0s - loss: 0.0236 - accuracy: 0.9955\n",
            "Epoch 48: val_accuracy did not improve from 0.75000\n",
            "29/29 [==============================] - 1s 26ms/step - loss: 0.0236 - accuracy: 0.9956 - val_loss: 1.1342 - val_accuracy: 0.6844\n",
            "Epoch 49/60\n",
            "29/29 [==============================] - ETA: 0s - loss: 0.0139 - accuracy: 0.9978\n",
            "Epoch 49: val_accuracy did not improve from 0.75000\n",
            "29/29 [==============================] - 1s 27ms/step - loss: 0.0139 - accuracy: 0.9978 - val_loss: 1.0576 - val_accuracy: 0.6889\n",
            "Epoch 50/60\n",
            "27/29 [==========================>...] - ETA: 0s - loss: 0.0101 - accuracy: 1.0000\n",
            "Epoch 50: val_accuracy did not improve from 0.75000\n",
            "29/29 [==============================] - 1s 25ms/step - loss: 0.0099 - accuracy: 1.0000 - val_loss: 1.0855 - val_accuracy: 0.6756\n",
            "Epoch 51/60\n",
            "28/29 [===========================>..] - ETA: 0s - loss: 0.0099 - accuracy: 0.9989\n",
            "Epoch 51: val_accuracy did not improve from 0.75000\n",
            "29/29 [==============================] - 1s 25ms/step - loss: 0.0100 - accuracy: 0.9989 - val_loss: 1.1153 - val_accuracy: 0.6622\n",
            "Epoch 52/60\n",
            "28/29 [===========================>..] - ETA: 0s - loss: 0.0090 - accuracy: 1.0000\n",
            "Epoch 52: val_accuracy did not improve from 0.75000\n",
            "29/29 [==============================] - 1s 25ms/step - loss: 0.0089 - accuracy: 1.0000 - val_loss: 1.0509 - val_accuracy: 0.6800\n",
            "Epoch 53/60\n",
            "28/29 [===========================>..] - ETA: 0s - loss: 0.0071 - accuracy: 0.9989\n",
            "Epoch 53: val_accuracy did not improve from 0.75000\n",
            "29/29 [==============================] - 1s 25ms/step - loss: 0.0071 - accuracy: 0.9989 - val_loss: 1.0722 - val_accuracy: 0.6800\n",
            "Epoch 54/60\n",
            "28/29 [===========================>..] - ETA: 0s - loss: 0.0070 - accuracy: 0.9989\n",
            "Epoch 54: val_accuracy did not improve from 0.75000\n",
            "29/29 [==============================] - 1s 25ms/step - loss: 0.0070 - accuracy: 0.9989 - val_loss: 1.0262 - val_accuracy: 0.7200\n",
            "Epoch 55/60\n",
            "28/29 [===========================>..] - ETA: 0s - loss: 0.0103 - accuracy: 0.9989\n",
            "Epoch 55: val_accuracy did not improve from 0.75000\n",
            "29/29 [==============================] - 1s 25ms/step - loss: 0.0102 - accuracy: 0.9989 - val_loss: 1.0319 - val_accuracy: 0.6800\n",
            "Epoch 56/60\n",
            "28/29 [===========================>..] - ETA: 0s - loss: 0.0061 - accuracy: 1.0000\n",
            "Epoch 56: val_accuracy did not improve from 0.75000\n",
            "29/29 [==============================] - 1s 24ms/step - loss: 0.0061 - accuracy: 1.0000 - val_loss: 1.0106 - val_accuracy: 0.6800\n",
            "Epoch 57/60\n",
            "28/29 [===========================>..] - ETA: 0s - loss: 0.0065 - accuracy: 1.0000\n",
            "Epoch 57: val_accuracy did not improve from 0.75000\n",
            "29/29 [==============================] - 1s 25ms/step - loss: 0.0065 - accuracy: 1.0000 - val_loss: 1.0439 - val_accuracy: 0.6844\n",
            "Epoch 58/60\n",
            "28/29 [===========================>..] - ETA: 0s - loss: 0.0043 - accuracy: 1.0000\n",
            "Epoch 58: val_accuracy did not improve from 0.75000\n",
            "29/29 [==============================] - 1s 24ms/step - loss: 0.0043 - accuracy: 1.0000 - val_loss: 1.0489 - val_accuracy: 0.6844\n",
            "Epoch 59/60\n",
            "27/29 [==========================>...] - ETA: 0s - loss: 0.0085 - accuracy: 0.9988\n",
            "Epoch 59: val_accuracy did not improve from 0.75000\n",
            "29/29 [==============================] - 1s 24ms/step - loss: 0.0083 - accuracy: 0.9989 - val_loss: 1.0093 - val_accuracy: 0.7067\n",
            "Epoch 60/60\n",
            "28/29 [===========================>..] - ETA: 0s - loss: 0.0047 - accuracy: 1.0000\n",
            "Epoch 60: val_accuracy did not improve from 0.75000\n",
            "29/29 [==============================] - 1s 25ms/step - loss: 0.0047 - accuracy: 1.0000 - val_loss: 1.0443 - val_accuracy: 0.6933\n"
          ]
        }
      ]
    },
    {
      "cell_type": "code",
      "source": [
        "# plot\n",
        "plt.plot(history.history['loss'])\n",
        "plt.plot(history.history['val_loss'])\n",
        "plt.title('Training and validation error')\n",
        "plt.xlabel('Epoch')\n",
        "plt.ylabel('Error')\n",
        "plt.legend(['Training', 'Validation'], loc='upper right')\n",
        "plt.show()"
      ],
      "metadata": {
        "colab": {
          "base_uri": "https://localhost:8080/",
          "height": 472
        },
        "id": "qYJLl21dg3BG",
        "outputId": "738e20bf-c506-46a8-a5ec-31e58c534ff8"
      },
      "execution_count": null,
      "outputs": [
        {
          "output_type": "display_data",
          "data": {
            "text/plain": [
              "<Figure size 640x480 with 1 Axes>"
            ],
            "image/png": "[encoded data removed]"
          },
          "metadata": {}
        }
      ]
    },
    {
      "cell_type": "code",
      "source": [
        "print(X_train_mfccs.shape[1], X_train_mfccs.shape[2], 1)\n",
        "print(X_train_wt.shape[1], X_train_wt.shape[2], 1)\n",
        "print(y_test)"
      ],
      "metadata": {
        "colab": {
          "base_uri": "https://localhost:8080/"
        },
        "id": "lmIxyxLQec_7",
        "outputId": "2a575801-73fb-4b85-c2a1-26283dce262e"
      },
      "execution_count": null,
      "outputs": [
        {
          "output_type": "stream",
          "name": "stdout",
          "text": [
            "29 118 1\n",
            "18 120 1\n",
            "['sample014' 'sample024' 'sample015' 'sample012' 'sample018' 'sample029'\n",
            " 'sample003' 'sample004' 'sample000' 'sample013' 'sample017' 'sample006'\n",
            " 'sample007' 'sample025' 'sample020' 'sample010' 'sample030' 'sample009'\n",
            " 'sample022' 'sample008' 'sample021' 'sample019' 'sample002' 'sample026'\n",
            " 'sample016' 'sample027' 'sample028' 'sample001' 'sample011' 'sample023'\n",
            " 'sample005' 'sample096' 'sample051' 'sample068' 'sample061' 'sample050'\n",
            " 'sample074' 'sample046' 'sample065' 'sample052' 'sample069' 'sample084'\n",
            " 'sample053' 'sample081' 'sample082' 'sample080' 'sample040' 'sample101'\n",
            " 'sample056' 'sample067' 'sample038' 'sample097' 'sample063' 'sample088'\n",
            " 'sample100' 'sample077' 'sample059' 'sample060' 'sample045' 'sample090'\n",
            " 'sample044' 'sample057' 'sample066' 'sample093' 'sample031' 'sample072'\n",
            " 'sample047' 'sample043' 'sample099' 'sample098' 'sample086' 'sample048'\n",
            " 'sample049' 'sample083' 'sample058' 'sample062' 'sample071' 'sample035'\n",
            " 'sample079' 'sample089' 'sample076' 'sample054' 'sample033' 'sample085'\n",
            " 'sample102' 'sample042' 'sample092' 'sample087' 'sample075' 'sample095'\n",
            " 'sample064' 'sample039' 'sample032' 'sample036' 'sample041' 'sample037'\n",
            " 'sample073' 'sample091' 'sample094' 'sample055' 'sample070' 'sample078'\n",
            " 'sample034' 'sample146' 'sample107' 'sample161' 'sample103' 'sample174'\n",
            " 'sample178' 'sample154' 'sample117' 'sample111' 'sample119' 'sample124'\n",
            " 'sample128' 'sample152' 'sample130' 'sample160' 'sample153' 'sample171'\n",
            " 'sample172' 'sample165' 'sample166' 'sample129' 'sample141' 'sample168'\n",
            " 'sample150' 'sample139' 'sample164' 'sample163' 'sample169' 'sample162'\n",
            " 'sample140' 'sample131' 'sample167' 'sample125' 'sample137' 'sample170'\n",
            " 'sample106' 'sample144' 'sample113' 'sample112' 'sample110' 'sample108'\n",
            " 'sample120' 'sample145' 'sample133' 'sample155' 'sample118' 'sample114'\n",
            " 'sample156' 'sample138' 'sample151' 'sample149' 'sample147' 'sample122'\n",
            " 'sample143' 'sample158' 'sample104' 'sample177' 'sample127' 'sample121'\n",
            " 'sample116' 'sample115' 'sample176' 'sample148' 'sample123' 'sample135'\n",
            " 'sample173' 'sample126' 'sample175' 'sample109' 'sample105' 'sample179'\n",
            " 'sample132' 'sample136' 'sample134' 'sample159' 'sample157' 'sample142'\n",
            " 'sample236' 'sample229' 'sample216' 'sample235' 'sample184' 'sample180'\n",
            " 'sample254' 'sample256' 'sample255' 'sample191' 'sample203' 'sample246'\n",
            " 'sample206' 'sample227' 'sample252' 'sample224' 'sample207' 'sample202'\n",
            " 'sample242' 'sample194' 'sample210' 'sample244' 'sample251' 'sample212'\n",
            " 'sample199' 'sample189' 'sample185' 'sample247' 'sample223' 'sample205'\n",
            " 'sample241' 'sample217' 'sample192' 'sample234' 'sample186' 'sample220'\n",
            " 'sample243' 'sample211' 'sample258' 'sample218' 'sample195' 'sample183'\n",
            " 'sample232' 'sample208' 'sample197' 'sample181' 'sample215' 'sample238'\n",
            " 'sample188' 'sample228' 'sample187' 'sample250' 'sample257' 'sample182'\n",
            " 'sample226' 'sample248' 'sample193' 'sample222' 'sample221' 'sample240'\n",
            " 'sample213' 'sample225' 'sample239' 'sample209' 'sample196' 'sample253'\n",
            " 'sample204' 'sample200' 'sample237' 'sample214' 'sample249' 'sample219'\n",
            " 'sample233' 'sample190' 'sample230' 'sample201' 'sample245' 'sample231'\n",
            " 'sample198' 'sample305' 'sample282' 'sample308' 'sample300' 'sample278'\n",
            " 'sample265' 'sample285' 'sample261' 'sample277' 'sample276' 'sample296'\n",
            " 'sample267' 'sample313' 'sample281' 'sample293' 'sample279' 'sample270'\n",
            " 'sample298' 'sample268' 'sample302' 'sample273' 'sample271' 'sample299'\n",
            " 'sample263' 'sample292' 'sample262' 'sample297' 'sample295' 'sample272'\n",
            " 'sample303' 'sample284' 'sample269' 'sample310' 'sample259' 'sample294'\n",
            " 'sample311' 'sample266' 'sample291' 'sample283' 'sample264' 'sample304'\n",
            " 'sample274' 'sample290' 'sample286' 'sample288' 'sample314' 'sample275'\n",
            " 'sample260' 'sample301' 'sample307' 'sample287' 'sample309' 'sample289'\n",
            " 'sample280' 'sample306' 'sample312']\n"
          ]
        }
      ]
    },
    {
      "cell_type": "code",
      "source": [
        "dummy1, dummy2, dummy3, X_test_mfccs, X_test_wt, y_test = FeatureExtraction(test_dir, split = False)\n"
      ],
      "metadata": {
        "id": "32iPE6tKemSn"
      },
      "execution_count": null,
      "outputs": []
    },
    {
      "cell_type": "code",
      "source": [
        "model.load_weights('best_model.h5')\n",
        "y_predicted = model.predict([X_test_mfccs, X_test_wt])\n",
        "\n",
        "y_predicted_ohv = np.argmax(y_predicted, axis = 1)\n",
        "\n",
        "print(y_predicted_ohv)\n",
        "label_map = {'angry': 0, 'calm': 1, 'disgust': 2, 'fearful': 3, 'happy': 4, 'neutral': 5, 'sad': 6, 'surprised': 7}\n",
        "\n",
        "def dict_search(dictionary, value):\n",
        "    for key, val in dictionary.items():\n",
        "        if val == value:\n",
        "            return key\n",
        "\n",
        "y_predicted_label = []\n",
        "for i in y_predicted_ohv:\n",
        "    val = dict_search(label_map, i)\n",
        "    y_predicted_label.append(val)\n",
        "\n",
        "\n",
        "print(y_predicted_label)"
      ],
      "metadata": {
        "colab": {
          "base_uri": "https://localhost:8080/"
        },
        "id": "3wuwcA29em5E",
        "outputId": "f05601be-a8fa-4819-999a-af0ea3a22e35"
      },
      "execution_count": null,
      "outputs": [
        {
          "output_type": "stream",
          "name": "stdout",
          "text": [
            "10/10 [==============================] - 1s 38ms/step\n",
            "[1 3 6 1 6 4 5 0 4 2 3 1 2 2 2 1 2 2 6 2 7 5 0 6 0 3 1 5 7 0 5 5 6 1 0 0 3\n",
            " 3 4 0 3 2 1 2 2 1 6 2 2 1 1 2 2 0 1 1 0 5 2 0 7 3 2 3 4 4 2 0 6 0 3 2 7 7\n",
            " 1 7 7 2 3 6 5 2 4 7 3 4 6 2 0 6 4 7 2 3 1 7 2 5 1 3 2 1 2 3 7 7 5 1 3 4 6\n",
            " 1 3 6 4 7 3 3 3 0 2 0 7 7 7 3 6 3 7 1 4 4 7 7 0 7 4 3 4 6 2 1 0 2 1 7 4 5\n",
            " 7 4 5 7 2 0 3 1 3 4 7 3 5 4 1 7 1 1 1 7 2 2 3 5 3 0 4 0 7 7 5 1 2 0 7 1 2\n",
            " 5 6 7 2 0 4 1 0 6 0 3 3 0 4 2 7 5 4 0 2 1 7 6 7 1 1 6 3 1 4 5 0 6 3 4 3 3\n",
            " 4 3 6 1 1 2 6 4 6 3 4 6 3 6 0 1 2 1 7 3 4 1 7 1 3 4 0 3 7 2 4 2 7 0 7 4 3\n",
            " 6 6 4 4 1 7 0 2 6 0 7 0 3 2 3 6 2 7 7 1 4 4 1 4 4 1 2 0 7 4 4 6 2 5 7 0 7\n",
            " 1 7 1 1 5 7 1 2 0 0 4 2 7 0 1 3 0 1 0]\n",
            "['calm', 'fearful', 'sad', 'calm', 'sad', 'happy', 'neutral', 'angry', 'happy', 'disgust', 'fearful', 'calm', 'disgust', 'disgust', 'disgust', 'calm', 'disgust', 'disgust', 'sad', 'disgust', 'surprised', 'neutral', 'angry', 'sad', 'angry', 'fearful', 'calm', 'neutral', 'surprised', 'angry', 'neutral', 'neutral', 'sad', 'calm', 'angry', 'angry', 'fearful', 'fearful', 'happy', 'angry', 'fearful', 'disgust', 'calm', 'disgust', 'disgust', 'calm', 'sad', 'disgust', 'disgust', 'calm', 'calm', 'disgust', 'disgust', 'angry', 'calm', 'calm', 'angry', 'neutral', 'disgust', 'angry', 'surprised', 'fearful', 'disgust', 'fearful', 'happy', 'happy', 'disgust', 'angry', 'sad', 'angry', 'fearful', 'disgust', 'surprised', 'surprised', 'calm', 'surprised', 'surprised', 'disgust', 'fearful', 'sad', 'neutral', 'disgust', 'happy', 'surprised', 'fearful', 'happy', 'sad', 'disgust', 'angry', 'sad', 'happy', 'surprised', 'disgust', 'fearful', 'calm', 'surprised', 'disgust', 'neutral', 'calm', 'fearful', 'disgust', 'calm', 'disgust', 'fearful', 'surprised', 'surprised', 'neutral', 'calm', 'fearful', 'happy', 'sad', 'calm', 'fearful', 'sad', 'happy', 'surprised', 'fearful', 'fearful', 'fearful', 'angry', 'disgust', 'angry', 'surprised', 'surprised', 'surprised', 'fearful', 'sad', 'fearful', 'surprised', 'calm', 'happy', 'happy', 'surprised', 'surprised', 'angry', 'surprised', 'happy', 'fearful', 'happy', 'sad', 'disgust', 'calm', 'angry', 'disgust', 'calm', 'surprised', 'happy', 'neutral', 'surprised', 'happy', 'neutral', 'surprised', 'disgust', 'angry', 'fearful', 'calm', 'fearful', 'happy', 'surprised', 'fearful', 'neutral', 'happy', 'calm', 'surprised', 'calm', 'calm', 'calm', 'surprised', 'disgust', 'disgust', 'fearful', 'neutral', 'fearful', 'angry', 'happy', 'angry', 'surprised', 'surprised', 'neutral', 'calm', 'disgust', 'angry', 'surprised', 'calm', 'disgust', 'neutral', 'sad', 'surprised', 'disgust', 'angry', 'happy', 'calm', 'angry', 'sad', 'angry', 'fearful', 'fearful', 'angry', 'happy', 'disgust', 'surprised', 'neutral', 'happy', 'angry', 'disgust', 'calm', 'surprised', 'sad', 'surprised', 'calm', 'calm', 'sad', 'fearful', 'calm', 'happy', 'neutral', 'angry', 'sad', 'fearful', 'happy', 'fearful', 'fearful', 'happy', 'fearful', 'sad', 'calm', 'calm', 'disgust', 'sad', 'happy', 'sad', 'fearful', 'happy', 'sad', 'fearful', 'sad', 'angry', 'calm', 'disgust', 'calm', 'surprised', 'fearful', 'happy', 'calm', 'surprised', 'calm', 'fearful', 'happy', 'angry', 'fearful', 'surprised', 'disgust', 'happy', 'disgust', 'surprised', 'angry', 'surprised', 'happy', 'fearful', 'sad', 'sad', 'happy', 'happy', 'calm', 'surprised', 'angry', 'disgust', 'sad', 'angry', 'surprised', 'angry', 'fearful', 'disgust', 'fearful', 'sad', 'disgust', 'surprised', 'surprised', 'calm', 'happy', 'happy', 'calm', 'happy', 'happy', 'calm', 'disgust', 'angry', 'surprised', 'happy', 'happy', 'sad', 'disgust', 'neutral', 'surprised', 'angry', 'surprised', 'calm', 'surprised', 'calm', 'calm', 'neutral', 'surprised', 'calm', 'disgust', 'angry', 'angry', 'happy', 'disgust', 'surprised', 'angry', 'calm', 'fearful', 'angry', 'calm', 'angry']\n"
          ]
        }
      ]
    },
    {
      "cell_type": "code",
      "source": [
        "import csv\n",
        "\n",
        "def make_csv(unlabeled_file_name, y_predicted_label):\n",
        "  with open('prediction.csv', mode='w', newline='') as file:\n",
        "      writer = csv.writer(file)\n",
        "      writer.writerow(['filename', 'label'])\n",
        "      for i in range(len(unlabeled_file_name)):\n",
        "        writer.writerow([unlabeled_file_name[i], y_predicted_label[i]])\n",
        "  file.close()\n",
        "\n",
        "make_csv(y_test, y_predicted_label)"
      ],
      "metadata": {
        "id": "2LXRuDD8erE4"
      },
      "execution_count": null,
      "outputs": []
    }
  ]
}